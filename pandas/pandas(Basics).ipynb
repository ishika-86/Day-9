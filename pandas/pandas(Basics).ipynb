{
 "cells": [
  {
   "cell_type": "code",
   "execution_count": 1,
   "id": "3187566e",
   "metadata": {},
   "outputs": [],
   "source": [
    "import numpy as np\n",
    "import pandas as pd"
   ]
  },
  {
   "cell_type": "code",
   "execution_count": 2,
   "id": "f717a851",
   "metadata": {},
   "outputs": [],
   "source": [
    "dict1 = {\n",
    "    \"name\": ['raj', 'rohan', 'shashi', 'harsh'],\n",
    "    \"marks\": [56, 78, 98, 89],\n",
    "    \"city\": ['gwl', 'bhp', 'hyd', 'pune']\n",
    "}"
   ]
  },
  {
   "cell_type": "code",
   "execution_count": 3,
   "id": "f194ca2a",
   "metadata": {},
   "outputs": [],
   "source": [
    "df = pd.DataFrame(dict1)"
   ]
  },
  {
   "cell_type": "code",
   "execution_count": 4,
   "id": "ff97d2c7",
   "metadata": {},
   "outputs": [
    {
     "data": {
      "text/html": [
       "<div>\n",
       "<style scoped>\n",
       "    .dataframe tbody tr th:only-of-type {\n",
       "        vertical-align: middle;\n",
       "    }\n",
       "\n",
       "    .dataframe tbody tr th {\n",
       "        vertical-align: top;\n",
       "    }\n",
       "\n",
       "    .dataframe thead th {\n",
       "        text-align: right;\n",
       "    }\n",
       "</style>\n",
       "<table border=\"1\" class=\"dataframe\">\n",
       "  <thead>\n",
       "    <tr style=\"text-align: right;\">\n",
       "      <th></th>\n",
       "      <th>name</th>\n",
       "      <th>marks</th>\n",
       "      <th>city</th>\n",
       "    </tr>\n",
       "  </thead>\n",
       "  <tbody>\n",
       "    <tr>\n",
       "      <th>0</th>\n",
       "      <td>raj</td>\n",
       "      <td>56</td>\n",
       "      <td>gwl</td>\n",
       "    </tr>\n",
       "    <tr>\n",
       "      <th>1</th>\n",
       "      <td>rohan</td>\n",
       "      <td>78</td>\n",
       "      <td>bhp</td>\n",
       "    </tr>\n",
       "    <tr>\n",
       "      <th>2</th>\n",
       "      <td>shashi</td>\n",
       "      <td>98</td>\n",
       "      <td>hyd</td>\n",
       "    </tr>\n",
       "    <tr>\n",
       "      <th>3</th>\n",
       "      <td>harsh</td>\n",
       "      <td>89</td>\n",
       "      <td>pune</td>\n",
       "    </tr>\n",
       "  </tbody>\n",
       "</table>\n",
       "</div>"
      ],
      "text/plain": [
       "     name  marks  city\n",
       "0     raj     56   gwl\n",
       "1   rohan     78   bhp\n",
       "2  shashi     98   hyd\n",
       "3   harsh     89  pune"
      ]
     },
     "execution_count": 4,
     "metadata": {},
     "output_type": "execute_result"
    }
   ],
   "source": [
    "df"
   ]
  },
  {
   "cell_type": "code",
   "execution_count": 5,
   "id": "144f3292",
   "metadata": {},
   "outputs": [],
   "source": [
    "df.to_csv('friends.csv')"
   ]
  },
  {
   "cell_type": "code",
   "execution_count": 6,
   "id": "443da6b2",
   "metadata": {},
   "outputs": [],
   "source": [
    "df.to_csv('friends_False_index.csv', index = False)"
   ]
  },
  {
   "cell_type": "code",
   "execution_count": 7,
   "id": "871dfe92",
   "metadata": {},
   "outputs": [],
   "source": [
    "flight = pd.read_csv('flight.csv')"
   ]
  },
  {
   "cell_type": "code",
   "execution_count": 8,
   "id": "13f7af51",
   "metadata": {},
   "outputs": [
    {
     "data": {
      "text/html": [
       "<div>\n",
       "<style scoped>\n",
       "    .dataframe tbody tr th:only-of-type {\n",
       "        vertical-align: middle;\n",
       "    }\n",
       "\n",
       "    .dataframe tbody tr th {\n",
       "        vertical-align: top;\n",
       "    }\n",
       "\n",
       "    .dataframe thead th {\n",
       "        text-align: right;\n",
       "    }\n",
       "</style>\n",
       "<table border=\"1\" class=\"dataframe\">\n",
       "  <thead>\n",
       "    <tr style=\"text-align: right;\">\n",
       "      <th></th>\n",
       "      <th>flight</th>\n",
       "      <th>Time</th>\n",
       "      <th>city</th>\n",
       "    </tr>\n",
       "  </thead>\n",
       "  <tbody>\n",
       "    <tr>\n",
       "      <th>0</th>\n",
       "      <td>indigo</td>\n",
       "      <td>6 hrs</td>\n",
       "      <td>gwl</td>\n",
       "    </tr>\n",
       "    <tr>\n",
       "      <th>1</th>\n",
       "      <td>vistara</td>\n",
       "      <td>4hrs</td>\n",
       "      <td>bhp</td>\n",
       "    </tr>\n",
       "    <tr>\n",
       "      <th>2</th>\n",
       "      <td>spicejet</td>\n",
       "      <td>3 hrs</td>\n",
       "      <td>hyd</td>\n",
       "    </tr>\n",
       "    <tr>\n",
       "      <th>3</th>\n",
       "      <td>AIR India</td>\n",
       "      <td>8 hrs</td>\n",
       "      <td>pune</td>\n",
       "    </tr>\n",
       "  </tbody>\n",
       "</table>\n",
       "</div>"
      ],
      "text/plain": [
       "      flight   Time  city\n",
       "0     indigo  6 hrs   gwl\n",
       "1    vistara   4hrs   bhp\n",
       "2   spicejet  3 hrs   hyd\n",
       "3  AIR India  8 hrs  pune"
      ]
     },
     "execution_count": 8,
     "metadata": {},
     "output_type": "execute_result"
    }
   ],
   "source": [
    "flight"
   ]
  },
  {
   "cell_type": "code",
   "execution_count": 9,
   "id": "81fcc7ba",
   "metadata": {},
   "outputs": [
    {
     "data": {
      "text/plain": [
       "0    6 hrs\n",
       "1     4hrs\n",
       "2    3 hrs\n",
       "3    8 hrs\n",
       "Name: Time, dtype: object"
      ]
     },
     "execution_count": 9,
     "metadata": {},
     "output_type": "execute_result"
    }
   ],
   "source": [
    "flight['Time']"
   ]
  },
  {
   "cell_type": "code",
   "execution_count": 10,
   "id": "65e10167",
   "metadata": {},
   "outputs": [],
   "source": [
    "flight['Time'][0] = '7 hrs'"
   ]
  },
  {
   "cell_type": "code",
   "execution_count": 11,
   "id": "e02080b3",
   "metadata": {},
   "outputs": [
    {
     "data": {
      "text/html": [
       "<div>\n",
       "<style scoped>\n",
       "    .dataframe tbody tr th:only-of-type {\n",
       "        vertical-align: middle;\n",
       "    }\n",
       "\n",
       "    .dataframe tbody tr th {\n",
       "        vertical-align: top;\n",
       "    }\n",
       "\n",
       "    .dataframe thead th {\n",
       "        text-align: right;\n",
       "    }\n",
       "</style>\n",
       "<table border=\"1\" class=\"dataframe\">\n",
       "  <thead>\n",
       "    <tr style=\"text-align: right;\">\n",
       "      <th></th>\n",
       "      <th>flight</th>\n",
       "      <th>Time</th>\n",
       "      <th>city</th>\n",
       "    </tr>\n",
       "  </thead>\n",
       "  <tbody>\n",
       "    <tr>\n",
       "      <th>0</th>\n",
       "      <td>indigo</td>\n",
       "      <td>7 hrs</td>\n",
       "      <td>gwl</td>\n",
       "    </tr>\n",
       "    <tr>\n",
       "      <th>1</th>\n",
       "      <td>vistara</td>\n",
       "      <td>4hrs</td>\n",
       "      <td>bhp</td>\n",
       "    </tr>\n",
       "    <tr>\n",
       "      <th>2</th>\n",
       "      <td>spicejet</td>\n",
       "      <td>3 hrs</td>\n",
       "      <td>hyd</td>\n",
       "    </tr>\n",
       "    <tr>\n",
       "      <th>3</th>\n",
       "      <td>AIR India</td>\n",
       "      <td>8 hrs</td>\n",
       "      <td>pune</td>\n",
       "    </tr>\n",
       "  </tbody>\n",
       "</table>\n",
       "</div>"
      ],
      "text/plain": [
       "      flight   Time  city\n",
       "0     indigo  7 hrs   gwl\n",
       "1    vistara   4hrs   bhp\n",
       "2   spicejet  3 hrs   hyd\n",
       "3  AIR India  8 hrs  pune"
      ]
     },
     "execution_count": 11,
     "metadata": {},
     "output_type": "execute_result"
    }
   ],
   "source": [
    "flight"
   ]
  },
  {
   "cell_type": "code",
   "execution_count": 12,
   "id": "172af059",
   "metadata": {},
   "outputs": [],
   "source": [
    "flight.index = ['first','second','third','fourth']"
   ]
  },
  {
   "cell_type": "code",
   "execution_count": 13,
   "id": "f00069e3",
   "metadata": {},
   "outputs": [
    {
     "data": {
      "text/html": [
       "<div>\n",
       "<style scoped>\n",
       "    .dataframe tbody tr th:only-of-type {\n",
       "        vertical-align: middle;\n",
       "    }\n",
       "\n",
       "    .dataframe tbody tr th {\n",
       "        vertical-align: top;\n",
       "    }\n",
       "\n",
       "    .dataframe thead th {\n",
       "        text-align: right;\n",
       "    }\n",
       "</style>\n",
       "<table border=\"1\" class=\"dataframe\">\n",
       "  <thead>\n",
       "    <tr style=\"text-align: right;\">\n",
       "      <th></th>\n",
       "      <th>flight</th>\n",
       "      <th>Time</th>\n",
       "      <th>city</th>\n",
       "    </tr>\n",
       "  </thead>\n",
       "  <tbody>\n",
       "    <tr>\n",
       "      <th>first</th>\n",
       "      <td>indigo</td>\n",
       "      <td>7 hrs</td>\n",
       "      <td>gwl</td>\n",
       "    </tr>\n",
       "    <tr>\n",
       "      <th>second</th>\n",
       "      <td>vistara</td>\n",
       "      <td>4hrs</td>\n",
       "      <td>bhp</td>\n",
       "    </tr>\n",
       "    <tr>\n",
       "      <th>third</th>\n",
       "      <td>spicejet</td>\n",
       "      <td>3 hrs</td>\n",
       "      <td>hyd</td>\n",
       "    </tr>\n",
       "    <tr>\n",
       "      <th>fourth</th>\n",
       "      <td>AIR India</td>\n",
       "      <td>8 hrs</td>\n",
       "      <td>pune</td>\n",
       "    </tr>\n",
       "  </tbody>\n",
       "</table>\n",
       "</div>"
      ],
      "text/plain": [
       "           flight   Time  city\n",
       "first      indigo  7 hrs   gwl\n",
       "second    vistara   4hrs   bhp\n",
       "third    spicejet  3 hrs   hyd\n",
       "fourth  AIR India  8 hrs  pune"
      ]
     },
     "execution_count": 13,
     "metadata": {},
     "output_type": "execute_result"
    }
   ],
   "source": [
    "flight"
   ]
  },
  {
   "cell_type": "code",
   "execution_count": 15,
   "id": "01326a0e",
   "metadata": {},
   "outputs": [],
   "source": [
    "ser = pd.Series(np.random.rand)"
   ]
  },
  {
   "cell_type": "code",
   "execution_count": 17,
   "id": "431367b5",
   "metadata": {},
   "outputs": [
    {
     "data": {
      "text/plain": [
       "pandas.core.series.Series"
      ]
     },
     "execution_count": 17,
     "metadata": {},
     "output_type": "execute_result"
    }
   ],
   "source": [
    "type(ser)"
   ]
  },
  {
   "cell_type": "code",
   "execution_count": 19,
   "id": "5735e0e3",
   "metadata": {},
   "outputs": [],
   "source": [
    "newdf = pd.DataFrame(np.random.rand(330, 5), index = np.arange(330))"
   ]
  },
  {
   "cell_type": "code",
   "execution_count": 23,
   "id": "1bc8db08",
   "metadata": {},
   "outputs": [
    {
     "data": {
      "text/html": [
       "<div>\n",
       "<style scoped>\n",
       "    .dataframe tbody tr th:only-of-type {\n",
       "        vertical-align: middle;\n",
       "    }\n",
       "\n",
       "    .dataframe tbody tr th {\n",
       "        vertical-align: top;\n",
       "    }\n",
       "\n",
       "    .dataframe thead th {\n",
       "        text-align: right;\n",
       "    }\n",
       "</style>\n",
       "<table border=\"1\" class=\"dataframe\">\n",
       "  <thead>\n",
       "    <tr style=\"text-align: right;\">\n",
       "      <th></th>\n",
       "      <th>0</th>\n",
       "      <th>1</th>\n",
       "      <th>2</th>\n",
       "      <th>3</th>\n",
       "      <th>4</th>\n",
       "    </tr>\n",
       "  </thead>\n",
       "  <tbody>\n",
       "    <tr>\n",
       "      <th>0</th>\n",
       "      <td>0.849368</td>\n",
       "      <td>0.474468</td>\n",
       "      <td>0.877632</td>\n",
       "      <td>0.153260</td>\n",
       "      <td>0.733745</td>\n",
       "    </tr>\n",
       "    <tr>\n",
       "      <th>1</th>\n",
       "      <td>0.265737</td>\n",
       "      <td>0.542924</td>\n",
       "      <td>0.028752</td>\n",
       "      <td>0.422770</td>\n",
       "      <td>0.313066</td>\n",
       "    </tr>\n",
       "    <tr>\n",
       "      <th>2</th>\n",
       "      <td>0.488514</td>\n",
       "      <td>0.002985</td>\n",
       "      <td>0.985117</td>\n",
       "      <td>0.576867</td>\n",
       "      <td>0.142142</td>\n",
       "    </tr>\n",
       "    <tr>\n",
       "      <th>3</th>\n",
       "      <td>0.057617</td>\n",
       "      <td>0.035917</td>\n",
       "      <td>0.055213</td>\n",
       "      <td>0.966465</td>\n",
       "      <td>0.490229</td>\n",
       "    </tr>\n",
       "    <tr>\n",
       "      <th>4</th>\n",
       "      <td>0.570055</td>\n",
       "      <td>0.140753</td>\n",
       "      <td>0.853235</td>\n",
       "      <td>0.646494</td>\n",
       "      <td>0.347687</td>\n",
       "    </tr>\n",
       "  </tbody>\n",
       "</table>\n",
       "</div>"
      ],
      "text/plain": [
       "          0         1         2         3         4\n",
       "0  0.849368  0.474468  0.877632  0.153260  0.733745\n",
       "1  0.265737  0.542924  0.028752  0.422770  0.313066\n",
       "2  0.488514  0.002985  0.985117  0.576867  0.142142\n",
       "3  0.057617  0.035917  0.055213  0.966465  0.490229\n",
       "4  0.570055  0.140753  0.853235  0.646494  0.347687"
      ]
     },
     "execution_count": 23,
     "metadata": {},
     "output_type": "execute_result"
    }
   ],
   "source": [
    "type(newdf)\n",
    "newdf.head()"
   ]
  },
  {
   "cell_type": "code",
   "execution_count": 22,
   "id": "2787088e",
   "metadata": {},
   "outputs": [
    {
     "data": {
      "text/html": [
       "<div>\n",
       "<style scoped>\n",
       "    .dataframe tbody tr th:only-of-type {\n",
       "        vertical-align: middle;\n",
       "    }\n",
       "\n",
       "    .dataframe tbody tr th {\n",
       "        vertical-align: top;\n",
       "    }\n",
       "\n",
       "    .dataframe thead th {\n",
       "        text-align: right;\n",
       "    }\n",
       "</style>\n",
       "<table border=\"1\" class=\"dataframe\">\n",
       "  <thead>\n",
       "    <tr style=\"text-align: right;\">\n",
       "      <th></th>\n",
       "      <th>0</th>\n",
       "      <th>1</th>\n",
       "      <th>2</th>\n",
       "      <th>3</th>\n",
       "      <th>4</th>\n",
       "    </tr>\n",
       "  </thead>\n",
       "  <tbody>\n",
       "    <tr>\n",
       "      <th>count</th>\n",
       "      <td>330.000000</td>\n",
       "      <td>330.000000</td>\n",
       "      <td>330.000000</td>\n",
       "      <td>330.000000</td>\n",
       "      <td>330.000000</td>\n",
       "    </tr>\n",
       "    <tr>\n",
       "      <th>mean</th>\n",
       "      <td>0.508149</td>\n",
       "      <td>0.481924</td>\n",
       "      <td>0.511826</td>\n",
       "      <td>0.522634</td>\n",
       "      <td>0.501950</td>\n",
       "    </tr>\n",
       "    <tr>\n",
       "      <th>std</th>\n",
       "      <td>0.282568</td>\n",
       "      <td>0.280924</td>\n",
       "      <td>0.292370</td>\n",
       "      <td>0.287846</td>\n",
       "      <td>0.283445</td>\n",
       "    </tr>\n",
       "    <tr>\n",
       "      <th>min</th>\n",
       "      <td>0.001828</td>\n",
       "      <td>0.002985</td>\n",
       "      <td>0.005805</td>\n",
       "      <td>0.000924</td>\n",
       "      <td>0.000989</td>\n",
       "    </tr>\n",
       "    <tr>\n",
       "      <th>25%</th>\n",
       "      <td>0.260432</td>\n",
       "      <td>0.245127</td>\n",
       "      <td>0.267981</td>\n",
       "      <td>0.277187</td>\n",
       "      <td>0.247835</td>\n",
       "    </tr>\n",
       "    <tr>\n",
       "      <th>50%</th>\n",
       "      <td>0.533975</td>\n",
       "      <td>0.468034</td>\n",
       "      <td>0.523190</td>\n",
       "      <td>0.536733</td>\n",
       "      <td>0.498013</td>\n",
       "    </tr>\n",
       "    <tr>\n",
       "      <th>75%</th>\n",
       "      <td>0.738907</td>\n",
       "      <td>0.730162</td>\n",
       "      <td>0.758707</td>\n",
       "      <td>0.798293</td>\n",
       "      <td>0.734641</td>\n",
       "    </tr>\n",
       "    <tr>\n",
       "      <th>max</th>\n",
       "      <td>0.998122</td>\n",
       "      <td>0.997608</td>\n",
       "      <td>0.997511</td>\n",
       "      <td>0.992940</td>\n",
       "      <td>0.991532</td>\n",
       "    </tr>\n",
       "  </tbody>\n",
       "</table>\n",
       "</div>"
      ],
      "text/plain": [
       "                0           1           2           3           4\n",
       "count  330.000000  330.000000  330.000000  330.000000  330.000000\n",
       "mean     0.508149    0.481924    0.511826    0.522634    0.501950\n",
       "std      0.282568    0.280924    0.292370    0.287846    0.283445\n",
       "min      0.001828    0.002985    0.005805    0.000924    0.000989\n",
       "25%      0.260432    0.245127    0.267981    0.277187    0.247835\n",
       "50%      0.533975    0.468034    0.523190    0.536733    0.498013\n",
       "75%      0.738907    0.730162    0.758707    0.798293    0.734641\n",
       "max      0.998122    0.997608    0.997511    0.992940    0.991532"
      ]
     },
     "execution_count": 22,
     "metadata": {},
     "output_type": "execute_result"
    }
   ],
   "source": [
    "newdf.describe()"
   ]
  },
  {
   "cell_type": "code",
   "execution_count": 24,
   "id": "7ad077e9",
   "metadata": {},
   "outputs": [
    {
     "data": {
      "text/plain": [
       "0    float64\n",
       "1    float64\n",
       "2    float64\n",
       "3    float64\n",
       "4    float64\n",
       "dtype: object"
      ]
     },
     "execution_count": 24,
     "metadata": {},
     "output_type": "execute_result"
    }
   ],
   "source": [
    "newdf.dtypes"
   ]
  },
  {
   "cell_type": "code",
   "execution_count": 25,
   "id": "03a04721",
   "metadata": {},
   "outputs": [
    {
     "data": {
      "text/plain": [
       "Index([  0,   1,   2,   3,   4,   5,   6,   7,   8,   9,\n",
       "       ...\n",
       "       320, 321, 322, 323, 324, 325, 326, 327, 328, 329],\n",
       "      dtype='int32', length=330)"
      ]
     },
     "execution_count": 25,
     "metadata": {},
     "output_type": "execute_result"
    }
   ],
   "source": [
    "newdf.index"
   ]
  },
  {
   "cell_type": "code",
   "execution_count": 26,
   "id": "e5e0e603",
   "metadata": {},
   "outputs": [
    {
     "data": {
      "text/plain": [
       "RangeIndex(start=0, stop=5, step=1)"
      ]
     },
     "execution_count": 26,
     "metadata": {},
     "output_type": "execute_result"
    }
   ],
   "source": [
    "newdf.columns"
   ]
  },
  {
   "cell_type": "code",
   "execution_count": 27,
   "id": "8466ec59",
   "metadata": {},
   "outputs": [
    {
     "data": {
      "text/plain": [
       "array([[0.84936787, 0.4744679 , 0.87763202, 0.1532597 , 0.73374469],\n",
       "       [0.26573703, 0.54292427, 0.02875235, 0.42277006, 0.31306595],\n",
       "       [0.48851431, 0.00298541, 0.98511679, 0.57686723, 0.14214184],\n",
       "       ...,\n",
       "       [0.15659793, 0.72300121, 0.63017399, 0.56647927, 0.44304801],\n",
       "       [0.36114511, 0.17359584, 0.85479151, 0.19049294, 0.7278324 ],\n",
       "       [0.56560996, 0.75023131, 0.26569314, 0.33984368, 0.29975755]])"
      ]
     },
     "execution_count": 27,
     "metadata": {},
     "output_type": "execute_result"
    }
   ],
   "source": [
    "newdf.to_numpy()"
   ]
  },
  {
   "cell_type": "code",
   "execution_count": 28,
   "id": "14d17552",
   "metadata": {},
   "outputs": [
    {
     "data": {
      "text/html": [
       "<div>\n",
       "<style scoped>\n",
       "    .dataframe tbody tr th:only-of-type {\n",
       "        vertical-align: middle;\n",
       "    }\n",
       "\n",
       "    .dataframe tbody tr th {\n",
       "        vertical-align: top;\n",
       "    }\n",
       "\n",
       "    .dataframe thead th {\n",
       "        text-align: right;\n",
       "    }\n",
       "</style>\n",
       "<table border=\"1\" class=\"dataframe\">\n",
       "  <thead>\n",
       "    <tr style=\"text-align: right;\">\n",
       "      <th></th>\n",
       "      <th>0</th>\n",
       "      <th>1</th>\n",
       "      <th>2</th>\n",
       "      <th>3</th>\n",
       "      <th>4</th>\n",
       "      <th>5</th>\n",
       "      <th>6</th>\n",
       "      <th>7</th>\n",
       "      <th>8</th>\n",
       "      <th>9</th>\n",
       "      <th>...</th>\n",
       "      <th>320</th>\n",
       "      <th>321</th>\n",
       "      <th>322</th>\n",
       "      <th>323</th>\n",
       "      <th>324</th>\n",
       "      <th>325</th>\n",
       "      <th>326</th>\n",
       "      <th>327</th>\n",
       "      <th>328</th>\n",
       "      <th>329</th>\n",
       "    </tr>\n",
       "  </thead>\n",
       "  <tbody>\n",
       "    <tr>\n",
       "      <th>0</th>\n",
       "      <td>0.849368</td>\n",
       "      <td>0.265737</td>\n",
       "      <td>0.488514</td>\n",
       "      <td>0.057617</td>\n",
       "      <td>0.570055</td>\n",
       "      <td>0.464542</td>\n",
       "      <td>0.013084</td>\n",
       "      <td>0.781740</td>\n",
       "      <td>0.660164</td>\n",
       "      <td>0.757735</td>\n",
       "      <td>...</td>\n",
       "      <td>0.671639</td>\n",
       "      <td>0.976118</td>\n",
       "      <td>0.797005</td>\n",
       "      <td>0.635978</td>\n",
       "      <td>0.630852</td>\n",
       "      <td>0.962907</td>\n",
       "      <td>0.719480</td>\n",
       "      <td>0.156598</td>\n",
       "      <td>0.361145</td>\n",
       "      <td>0.565610</td>\n",
       "    </tr>\n",
       "    <tr>\n",
       "      <th>1</th>\n",
       "      <td>0.474468</td>\n",
       "      <td>0.542924</td>\n",
       "      <td>0.002985</td>\n",
       "      <td>0.035917</td>\n",
       "      <td>0.140753</td>\n",
       "      <td>0.330059</td>\n",
       "      <td>0.055350</td>\n",
       "      <td>0.464142</td>\n",
       "      <td>0.111013</td>\n",
       "      <td>0.611298</td>\n",
       "      <td>...</td>\n",
       "      <td>0.967995</td>\n",
       "      <td>0.207139</td>\n",
       "      <td>0.423892</td>\n",
       "      <td>0.604944</td>\n",
       "      <td>0.561001</td>\n",
       "      <td>0.788509</td>\n",
       "      <td>0.494029</td>\n",
       "      <td>0.723001</td>\n",
       "      <td>0.173596</td>\n",
       "      <td>0.750231</td>\n",
       "    </tr>\n",
       "    <tr>\n",
       "      <th>2</th>\n",
       "      <td>0.877632</td>\n",
       "      <td>0.028752</td>\n",
       "      <td>0.985117</td>\n",
       "      <td>0.055213</td>\n",
       "      <td>0.853235</td>\n",
       "      <td>0.722626</td>\n",
       "      <td>0.862716</td>\n",
       "      <td>0.018675</td>\n",
       "      <td>0.685277</td>\n",
       "      <td>0.646306</td>\n",
       "      <td>...</td>\n",
       "      <td>0.525012</td>\n",
       "      <td>0.867010</td>\n",
       "      <td>0.622188</td>\n",
       "      <td>0.961144</td>\n",
       "      <td>0.010933</td>\n",
       "      <td>0.560695</td>\n",
       "      <td>0.556586</td>\n",
       "      <td>0.630174</td>\n",
       "      <td>0.854792</td>\n",
       "      <td>0.265693</td>\n",
       "    </tr>\n",
       "    <tr>\n",
       "      <th>3</th>\n",
       "      <td>0.153260</td>\n",
       "      <td>0.422770</td>\n",
       "      <td>0.576867</td>\n",
       "      <td>0.966465</td>\n",
       "      <td>0.646494</td>\n",
       "      <td>0.606053</td>\n",
       "      <td>0.964583</td>\n",
       "      <td>0.490340</td>\n",
       "      <td>0.986919</td>\n",
       "      <td>0.093593</td>\n",
       "      <td>...</td>\n",
       "      <td>0.021325</td>\n",
       "      <td>0.840353</td>\n",
       "      <td>0.973252</td>\n",
       "      <td>0.307112</td>\n",
       "      <td>0.178451</td>\n",
       "      <td>0.557942</td>\n",
       "      <td>0.453743</td>\n",
       "      <td>0.566479</td>\n",
       "      <td>0.190493</td>\n",
       "      <td>0.339844</td>\n",
       "    </tr>\n",
       "    <tr>\n",
       "      <th>4</th>\n",
       "      <td>0.733745</td>\n",
       "      <td>0.313066</td>\n",
       "      <td>0.142142</td>\n",
       "      <td>0.490229</td>\n",
       "      <td>0.347687</td>\n",
       "      <td>0.908601</td>\n",
       "      <td>0.088703</td>\n",
       "      <td>0.331323</td>\n",
       "      <td>0.838549</td>\n",
       "      <td>0.121159</td>\n",
       "      <td>...</td>\n",
       "      <td>0.583726</td>\n",
       "      <td>0.765648</td>\n",
       "      <td>0.546418</td>\n",
       "      <td>0.247423</td>\n",
       "      <td>0.325032</td>\n",
       "      <td>0.518689</td>\n",
       "      <td>0.386740</td>\n",
       "      <td>0.443048</td>\n",
       "      <td>0.727832</td>\n",
       "      <td>0.299758</td>\n",
       "    </tr>\n",
       "  </tbody>\n",
       "</table>\n",
       "<p>5 rows × 330 columns</p>\n",
       "</div>"
      ],
      "text/plain": [
       "        0         1         2         3         4         5         6    \\\n",
       "0  0.849368  0.265737  0.488514  0.057617  0.570055  0.464542  0.013084   \n",
       "1  0.474468  0.542924  0.002985  0.035917  0.140753  0.330059  0.055350   \n",
       "2  0.877632  0.028752  0.985117  0.055213  0.853235  0.722626  0.862716   \n",
       "3  0.153260  0.422770  0.576867  0.966465  0.646494  0.606053  0.964583   \n",
       "4  0.733745  0.313066  0.142142  0.490229  0.347687  0.908601  0.088703   \n",
       "\n",
       "        7         8         9    ...       320       321       322       323  \\\n",
       "0  0.781740  0.660164  0.757735  ...  0.671639  0.976118  0.797005  0.635978   \n",
       "1  0.464142  0.111013  0.611298  ...  0.967995  0.207139  0.423892  0.604944   \n",
       "2  0.018675  0.685277  0.646306  ...  0.525012  0.867010  0.622188  0.961144   \n",
       "3  0.490340  0.986919  0.093593  ...  0.021325  0.840353  0.973252  0.307112   \n",
       "4  0.331323  0.838549  0.121159  ...  0.583726  0.765648  0.546418  0.247423   \n",
       "\n",
       "        324       325       326       327       328       329  \n",
       "0  0.630852  0.962907  0.719480  0.156598  0.361145  0.565610  \n",
       "1  0.561001  0.788509  0.494029  0.723001  0.173596  0.750231  \n",
       "2  0.010933  0.560695  0.556586  0.630174  0.854792  0.265693  \n",
       "3  0.178451  0.557942  0.453743  0.566479  0.190493  0.339844  \n",
       "4  0.325032  0.518689  0.386740  0.443048  0.727832  0.299758  \n",
       "\n",
       "[5 rows x 330 columns]"
      ]
     },
     "execution_count": 28,
     "metadata": {},
     "output_type": "execute_result"
    }
   ],
   "source": [
    "newdf.T"
   ]
  },
  {
   "cell_type": "code",
   "execution_count": 29,
   "id": "e0ea336b",
   "metadata": {},
   "outputs": [
    {
     "data": {
      "text/html": [
       "<div>\n",
       "<style scoped>\n",
       "    .dataframe tbody tr th:only-of-type {\n",
       "        vertical-align: middle;\n",
       "    }\n",
       "\n",
       "    .dataframe tbody tr th {\n",
       "        vertical-align: top;\n",
       "    }\n",
       "\n",
       "    .dataframe thead th {\n",
       "        text-align: right;\n",
       "    }\n",
       "</style>\n",
       "<table border=\"1\" class=\"dataframe\">\n",
       "  <thead>\n",
       "    <tr style=\"text-align: right;\">\n",
       "      <th></th>\n",
       "      <th>0</th>\n",
       "      <th>1</th>\n",
       "      <th>2</th>\n",
       "      <th>3</th>\n",
       "      <th>4</th>\n",
       "    </tr>\n",
       "  </thead>\n",
       "  <tbody>\n",
       "    <tr>\n",
       "      <th>0</th>\n",
       "      <td>0.849368</td>\n",
       "      <td>0.474468</td>\n",
       "      <td>0.877632</td>\n",
       "      <td>0.153260</td>\n",
       "      <td>0.733745</td>\n",
       "    </tr>\n",
       "    <tr>\n",
       "      <th>1</th>\n",
       "      <td>0.265737</td>\n",
       "      <td>0.542924</td>\n",
       "      <td>0.028752</td>\n",
       "      <td>0.422770</td>\n",
       "      <td>0.313066</td>\n",
       "    </tr>\n",
       "    <tr>\n",
       "      <th>2</th>\n",
       "      <td>0.488514</td>\n",
       "      <td>0.002985</td>\n",
       "      <td>0.985117</td>\n",
       "      <td>0.576867</td>\n",
       "      <td>0.142142</td>\n",
       "    </tr>\n",
       "    <tr>\n",
       "      <th>3</th>\n",
       "      <td>0.057617</td>\n",
       "      <td>0.035917</td>\n",
       "      <td>0.055213</td>\n",
       "      <td>0.966465</td>\n",
       "      <td>0.490229</td>\n",
       "    </tr>\n",
       "    <tr>\n",
       "      <th>4</th>\n",
       "      <td>0.570055</td>\n",
       "      <td>0.140753</td>\n",
       "      <td>0.853235</td>\n",
       "      <td>0.646494</td>\n",
       "      <td>0.347687</td>\n",
       "    </tr>\n",
       "  </tbody>\n",
       "</table>\n",
       "</div>"
      ],
      "text/plain": [
       "          0         1         2         3         4\n",
       "0  0.849368  0.474468  0.877632  0.153260  0.733745\n",
       "1  0.265737  0.542924  0.028752  0.422770  0.313066\n",
       "2  0.488514  0.002985  0.985117  0.576867  0.142142\n",
       "3  0.057617  0.035917  0.055213  0.966465  0.490229\n",
       "4  0.570055  0.140753  0.853235  0.646494  0.347687"
      ]
     },
     "execution_count": 29,
     "metadata": {},
     "output_type": "execute_result"
    }
   ],
   "source": [
    "newdf.head()"
   ]
  },
  {
   "cell_type": "code",
   "execution_count": 30,
   "id": "33566d19",
   "metadata": {},
   "outputs": [
    {
     "data": {
      "text/plain": [
       "0      0.849368\n",
       "1      0.265737\n",
       "2      0.488514\n",
       "3      0.057617\n",
       "4      0.570055\n",
       "         ...   \n",
       "325    0.962907\n",
       "326    0.719480\n",
       "327    0.156598\n",
       "328    0.361145\n",
       "329    0.565610\n",
       "Name: 0, Length: 330, dtype: float64"
      ]
     },
     "execution_count": 30,
     "metadata": {},
     "output_type": "execute_result"
    }
   ],
   "source": [
    "newdf[0]"
   ]
  },
  {
   "cell_type": "code",
   "execution_count": null,
   "id": "e8374ad9",
   "metadata": {},
   "outputs": [],
   "source": []
  }
 ],
 "metadata": {
  "kernelspec": {
   "display_name": "Python 3 (ipykernel)",
   "language": "python",
   "name": "python3"
  },
  "language_info": {
   "codemirror_mode": {
    "name": "ipython",
    "version": 3
   },
   "file_extension": ".py",
   "mimetype": "text/x-python",
   "name": "python",
   "nbconvert_exporter": "python",
   "pygments_lexer": "ipython3",
   "version": "3.11.5"
  }
 },
 "nbformat": 4,
 "nbformat_minor": 5
}
